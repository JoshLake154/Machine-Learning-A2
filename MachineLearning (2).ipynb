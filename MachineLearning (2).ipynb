{
  "nbformat": 4,
  "nbformat_minor": 0,
  "metadata": {
    "colab": {
      "name": "MachineLearning.ipynb",
      "provenance": [],
      "collapsed_sections": []
    },
    "kernelspec": {
      "name": "python3",
      "display_name": "Python 3"
    }
  },
  "cells": [
    {
      "cell_type": "code",
      "metadata": {
        "id": "khuF-p3ZSPDe",
        "colab_type": "code",
        "colab": {}
      },
      "source": [
        "import pandas as pd\n",
        "import io\n",
        "import seaborn as sns\n",
        "import matplotlib.pyplot as plt \n",
        "import numpy as np\n",
        "\n",
        "\n",
        "url = 'https://raw.githubusercontent.com/JoshLake154/Machine-Learning-A2/master/Data.csv?token=ANALJGASFS6HEBSM54VI6B25RFZF4'\n",
        "data = pd.read_csv(url)\n",
        "#Reads the data file and decodes the CSV\n",
        "#The dataset is now stored as a dataframe\n",
        "\n",
        "data.Loan_Status.replace(('Y', 'N'), (1, 0), inplace=True)\n",
        "\n",
        "data.info()\n",
        "\n",
        "data.head()"
      ],
      "execution_count": 0,
      "outputs": []
    },
    {
      "cell_type": "code",
      "metadata": {
        "id": "Ax-0y4mE_UgQ",
        "colab_type": "code",
        "colab": {}
      },
      "source": [
        "corr=data.corr()\n",
        "fig,ax=plt.subplots(figsize=(15,15))\n",
        "colormap=sns.diverging_palette(221,1, as_cmap=True)\n",
        "sns.heatmap(corr, cmap=colormap, annot=True, fmt=\" 2f\")\n",
        "plt.title('Correlation of Variables')\n",
        "plt.xticks(range(len(corr.columns)), corr.columns);\n",
        "plt.yticks(range(len(corr.columns)), corr.columns)\n",
        "plt.show()\n",
        "\n",
        "#Correlation Visualisation between the variables to determine if any variables need to be removed"
      ],
      "execution_count": 0,
      "outputs": []
    },
    {
      "cell_type": "code",
      "metadata": {
        "id": "aUnkm_hcvjNU",
        "colab_type": "code",
        "colab": {}
      },
      "source": [
        "data = data.drop(['Loan_ID'], axis=1)\n",
        "\n",
        "# We drop the Loan_ID column as \n",
        "# it is an identifier and does not offer any benefit in prediction."
      ],
      "execution_count": 0,
      "outputs": []
    },
    {
      "cell_type": "code",
      "metadata": {
        "id": "cBT53vJYTtLy",
        "colab_type": "code",
        "colab": {}
      },
      "source": [
        "print (data.isnull().sum()) \n",
        "#Prints a summary of the null cells in each column of the data\n",
        "\n",
        "sns.heatmap(data.isnull(),yticklabels=False,cbar=True,cmap='Greens')\n",
        "#Prints a heatmap of the null cells for identification of which column is most effected by the null values\n",
        "\n",
        "plt.title('Empty Cells')\n"
      ],
      "execution_count": 0,
      "outputs": []
    },
    {
      "cell_type": "code",
      "metadata": {
        "id": "fHxNBz6VcBux",
        "colab_type": "code",
        "colab": {}
      },
      "source": [
        "median = data['CoapplicantIncome'].median()\n",
        "data['CoapplicantIncome'].fillna(median, inplace=True)\n",
        "#Replaces the null cells in the CoapplicantIncome column with the median value of the column\n",
        "\n",
        "sns.heatmap(data.isnull(),yticklabels=False,cbar=True,cmap='Greens')\n",
        "\n",
        "#Prints a heatmap of the null cells, showing the Coapplicant Income column now has no empty cells."
      ],
      "execution_count": 0,
      "outputs": []
    },
    {
      "cell_type": "code",
      "metadata": {
        "id": "xktT0rXMcCU7",
        "colab_type": "code",
        "colab": {}
      },
      "source": [
        "median = data['LoanAmount'].median()\n",
        "data['LoanAmount'].fillna(median, inplace=True)\n",
        "#Replaces the null cells in the LoanAmount column with the median value of the column\n",
        "\n",
        "sns.heatmap(data.isnull(),yticklabels=False,cbar=True,cmap='Greens')\n",
        "#Prints a heatmap of the null cells, showing the Loan Amount column now has no empty cells.\n"
      ],
      "execution_count": 0,
      "outputs": []
    },
    {
      "cell_type": "code",
      "metadata": {
        "id": "dWTl4kuzFAGz",
        "colab_type": "code",
        "colab": {}
      },
      "source": [
        "data['Gender'].fillna(data['Gender'].mode()[0], inplace=True)\n",
        "data['Married'].fillna(data['Married'].mode()[0], inplace=True)\n",
        "data['Dependents'].fillna(data['Dependents'].mode()[0], inplace=True)\n",
        "data['Self_Employed'].fillna(data['Self_Employed'].mode()[0], inplace=True)\n",
        "data['Loan_Amount_Term'].fillna(data['Loan_Amount_Term'].mode()[0], inplace=True)\n",
        "\n",
        "#Here we are replacing the empty data cells with the mode"
      ],
      "execution_count": 0,
      "outputs": []
    },
    {
      "cell_type": "code",
      "metadata": {
        "id": "DiTRRxUQJCBG",
        "colab_type": "code",
        "colab": {}
      },
      "source": [
        "\n",
        "data.dropna(inplace=True)\n",
        "\n",
        "#Dropping the rows with empty cells in the credit rating column due to the high correlation of credit rating\n"
      ],
      "execution_count": 0,
      "outputs": []
    },
    {
      "cell_type": "code",
      "metadata": {
        "id": "C8Br2RhcVw75",
        "colab_type": "code",
        "colab": {}
      },
      "source": [
        "sns.boxplot(x=data['ApplicantIncome'])\n",
        "#A visual plot of the outliers in the Applicant income column"
      ],
      "execution_count": 0,
      "outputs": []
    },
    {
      "cell_type": "code",
      "metadata": {
        "id": "_ZEC3THLWVWf",
        "colab_type": "code",
        "colab": {}
      },
      "source": [
        "sns.boxplot(x=data['CoapplicantIncome'])\n",
        "#A visual plot of the outliers in the Coapplicant income column"
      ],
      "execution_count": 0,
      "outputs": []
    },
    {
      "cell_type": "code",
      "metadata": {
        "id": "ZQDbZgJwWTQu",
        "colab_type": "code",
        "colab": {}
      },
      "source": [
        "sns.boxplot(x=data['LoanAmount'])\n",
        "#A visual plot of the outliers in the Loan amount column"
      ],
      "execution_count": 0,
      "outputs": []
    },
    {
      "cell_type": "code",
      "metadata": {
        "id": "EK7Ci7ftlJO-",
        "colab_type": "code",
        "colab": {}
      },
      "source": [
        "\n",
        "plt.rc(\"font\", size=15)\n",
        "table = pd.crosstab(data.Property_Area, data.Loan_Status)\n",
        "table.div(table.sum(1).astype(float), axis=0).plot(kind='bar', stacked=True, lw=2,ec='black')\n",
        "plt.title('Loan Status for Property Area')\n",
        "plt.xlabel('Property Area')\n",
        "plt.ylabel('Loan Status')\n",
        "plt.savefig('prop_vs_ls_bar')\n",
        "\n",
        "#A visual plot of the loan status outcome based on each column"
      ],
      "execution_count": 0,
      "outputs": []
    },
    {
      "cell_type": "code",
      "metadata": {
        "id": "BuexpvVLmhwM",
        "colab_type": "code",
        "colab": {}
      },
      "source": [
        "table = pd.crosstab(data.Gender, data.Loan_Status)\n",
        "table.div(table.sum(1).astype(float), axis=0).plot(kind='bar', stacked=True, lw=2,ec='black')\n",
        "plt.title('Loan Status for Gender')\n",
        "plt.xlabel('Gender')\n",
        "plt.ylabel('Loan Status')\n",
        "plt.savefig('gend_vs_ls_bar')\n",
        "#A visual plot of the loan status outcome based on each column"
      ],
      "execution_count": 0,
      "outputs": []
    },
    {
      "cell_type": "code",
      "metadata": {
        "id": "kXnyWGQUmvgx",
        "colab_type": "code",
        "colab": {}
      },
      "source": [
        "table = pd.crosstab(data.Married, data.Loan_Status)\n",
        "table.div(table.sum(1).astype(float), axis=0).plot(kind='bar', stacked=True, lw=2,ec='black')\n",
        "plt.title('Loan Status for Marrital Status')\n",
        "plt.xlabel('Marital Status')\n",
        "plt.ylabel('Loan Status')\n",
        "plt.savefig('ms_vs_ls_bar')\n",
        "#A visual plot of the loan status outcome based on each column"
      ],
      "execution_count": 0,
      "outputs": []
    },
    {
      "cell_type": "code",
      "metadata": {
        "id": "dreOtGT2m41S",
        "colab_type": "code",
        "colab": {}
      },
      "source": [
        "table = pd.crosstab(data.Dependents, data.Loan_Status)\n",
        "table.div(table.sum(1).astype(float), axis=0).plot(kind='bar', stacked=True, lw=2,ec='black')\n",
        "plt.title('Loan Status for Number of Children')\n",
        "plt.xlabel('Number of Children')\n",
        "plt.ylabel('Loan Status')\n",
        "plt.savefig('dep_vs_ls_bar')\n",
        "#A visual plot of the loan status outcome based on each column"
      ],
      "execution_count": 0,
      "outputs": []
    },
    {
      "cell_type": "code",
      "metadata": {
        "id": "FkNNkIwdnDyq",
        "colab_type": "code",
        "colab": {}
      },
      "source": [
        "table = pd.crosstab(data.Education, data.Loan_Status)\n",
        "table.div(table.sum(1).astype(float), axis=0).plot(kind='bar', stacked=True, lw=2,ec='black')\n",
        "plt.title('Loan Status for Education')\n",
        "plt.xlabel('Ecucation')\n",
        "plt.ylabel('Loan Status')\n",
        "plt.savefig('edu_vs_ls_bar')\n",
        "#A visual plot of the loan status outcome based on each column"
      ],
      "execution_count": 0,
      "outputs": []
    },
    {
      "cell_type": "code",
      "metadata": {
        "id": "TOjWSOaEnPCF",
        "colab_type": "code",
        "colab": {}
      },
      "source": [
        "table = pd.crosstab(data.Self_Employed, data.Loan_Status)\n",
        "table.div(table.sum(1).astype(float), axis=0).plot(kind='bar', stacked=True, lw=2,ec='black')\n",
        "plt.title('Loan Status for Self Employment')\n",
        "plt.xlabel('Self Employment')\n",
        "plt.ylabel('Loan Status')\n",
        "plt.savefig('se_vs_ls_bar')\n",
        "#A visual plot of the loan status outcome based on each column"
      ],
      "execution_count": 0,
      "outputs": []
    },
    {
      "cell_type": "code",
      "metadata": {
        "id": "BSmrCC1rnx9z",
        "colab_type": "code",
        "colab": {}
      },
      "source": [
        "table = pd.crosstab(data.Credit_History, data.Loan_Status)\n",
        "table.div(table.sum(1).astype(float), axis=0).plot(kind='bar', stacked=True, lw=2,ec='black')\n",
        "plt.title('Loan Status for Credit History')\n",
        "plt.xlabel('Credit History')\n",
        "plt.ylabel('Loan Status')\n",
        "plt.savefig('ch_vs_ls_bar')\n",
        "#A visual plot of the loan status outcome based on each column"
      ],
      "execution_count": 0,
      "outputs": []
    },
    {
      "cell_type": "code",
      "metadata": {
        "id": "9cWkeB62V8ez",
        "colab_type": "code",
        "colab": {}
      },
      "source": [
        "Q1 = data.quantile(0.25)\n",
        "Q3 = data.quantile(0.75)\n",
        "IQR = Q3-Q1\n",
        "(data < (Q1-1.5*IQR)) | (data > (Q3 + 1.5 * IQR))\n",
        "data = data[~((data < (Q1 - 1.5 * IQR)) |(data > (Q3 + 1.5 * IQR))).any(axis=1)]\n",
        "\n",
        "#Removal of outliers from the dataset using the IQR formula\n"
      ],
      "execution_count": 0,
      "outputs": []
    },
    {
      "cell_type": "code",
      "metadata": {
        "id": "yWgcTHWiWiwO",
        "colab_type": "code",
        "colab": {}
      },
      "source": [
        "gender = pd.get_dummies(data['Gender'],drop_first=True)\n",
        "\n",
        "married = pd.get_dummies(data['Married'],drop_first=True)\n",
        "\n",
        "dependents = pd.get_dummies(data['Dependents'],drop_first=True)\n",
        "\n",
        "education = pd.get_dummies(data['Education'],drop_first=True)\n",
        "\n",
        "self_employed = pd.get_dummies(data['Self_Employed'],drop_first=True)\n",
        "\n",
        "property_area = pd.get_dummies(data['Property_Area'],drop_first=True)\n",
        "\n",
        "data.drop(['Gender', 'Married', 'Dependents','Education','Self_Employed','Property_Area','Loan_Amount_Term'],axis=1, inplace = True)\n",
        "\n",
        "data =pd.concat([data,gender,married,dependents,education,self_employed,property_area],axis=1)\n",
        "\n",
        "\n",
        "\n",
        "\n",
        "\n",
        "#Transformation of continuous variables to categorical variables for classification"
      ],
      "execution_count": 0,
      "outputs": []
    },
    {
      "cell_type": "code",
      "metadata": {
        "id": "FOaXrlKbhxS0",
        "colab_type": "code",
        "colab": {}
      },
      "source": [
        "import matplotlib.pyplot as plotter\n",
        "\n",
        "\n",
        "pieLabels = '1', '0'\n",
        "\n",
        "\n",
        "\n",
        "figureObject, axesObject = plotter.subplots()\n",
        "axesObject.pie(data['Loan_Status'].value_counts(),labels=pieLabels,autopct='%1.2f')\n",
        "\n",
        "#Visual representation of the number of Yes and No loan classifications in the entire data set."
      ],
      "execution_count": 0,
      "outputs": []
    },
    {
      "cell_type": "code",
      "metadata": {
        "id": "Ph39VvqvZwuz",
        "colab_type": "code",
        "colab": {}
      },
      "source": [
        "#Neural Network\n",
        "from sklearn.metrics import accuracy_score\n",
        "\n",
        "import pandas as pd\n",
        "import io\n",
        "import seaborn as sns\n",
        "import matplotlib.pyplot as plt \n",
        "import numpy as np\n",
        "from sklearn.model_selection import train_test_split\n",
        "from sklearn import preprocessing\n",
        "from sklearn.preprocessing import StandardScaler\n",
        "\n",
        "from sklearn.neural_network import MLPClassifier\n",
        "from sklearn.model_selection import GridSearchCV\n",
        "\n",
        "\n",
        "#Splitting the data into training and test sets\n",
        "X_train, X_test, y_train, y_test = train_test_split(data.drop('Loan_Status', axis=1),data['Loan_Status'], test_size=0.15, random_state=0)\n",
        "\n",
        "\n",
        "#Scaling the data (normalizing) for optimal classification between 0 and 1\n",
        "scaler = StandardScaler()\n",
        "scaler.fit(X_train)\n",
        "StandardScaler(copy=True, with_mean=True, with_std=True)\n",
        "X_train = scaler.transform(X_train)\n",
        "X_test = scaler.transform(X_test)\n",
        "                          \n",
        "#Setting the parameteres of the MLP classifier\n",
        "\n",
        "mlp = MLPClassifier()\n",
        "\n",
        "mlp.fit(X_train,y_train)\n",
        "MLPClassifier(activation='tanh', \n",
        "              alpha=0.0001, \n",
        "              hidden_layer_sizes=(14, 14, 14, 14), \n",
        "              learning_rate='constant',  \n",
        "              random_state=None,\n",
        "              solver=['adam'])\n",
        "              \n",
        "\n",
        "#Optimizing the parameters of the MLP classifier to find the best performing model\n",
        "parameter_space = { \n",
        "              'hidden_layer_sizes': [(8, 8, 8,8),(13, 13, 13,13),(14, 14, 14,14),(15, 15, 15,15), (16, 16, 16,16)],\n",
        "              'activation': ['tanh', 'relu'],\n",
        "              'solver': ['sgd', 'adam'],\n",
        "              'alpha': [0.00001, 0.0001, 0.005, 0.05],\n",
        "              'learning_rate': ['constant','adaptive'],\n",
        "              \n",
        "              \n",
        "}\n",
        "\n",
        "clf = GridSearchCV(mlp, parameter_space, n_jobs=-1, cv=3)\n",
        "clf.fit(X_train, y_train)\n",
        "\n",
        "print('Best parameters found:\\n', clf.best_params_)"
      ],
      "execution_count": 0,
      "outputs": []
    },
    {
      "cell_type": "code",
      "metadata": {
        "id": "zHDdPBv3ZwnU",
        "colab_type": "code",
        "colab": {}
      },
      "source": [
        "predictions = mlp.predict(X_test)\n",
        "from sklearn.metrics import classification_report,confusion_matrix\n",
        "print(confusion_matrix(y_test,predictions))\n",
        "\n",
        "#The cconfusion matrix will represent the prediction accuracy"
      ],
      "execution_count": 0,
      "outputs": []
    },
    {
      "cell_type": "code",
      "metadata": {
        "id": "8kYXmKioZwgL",
        "colab_type": "code",
        "colab": {}
      },
      "source": [
        "print(classification_report(y_test,predictions))\n",
        "\n",
        "#Printing of the classification report"
      ],
      "execution_count": 0,
      "outputs": []
    },
    {
      "cell_type": "code",
      "metadata": {
        "id": "GUjEhvliZwXq",
        "colab_type": "code",
        "colab": {}
      },
      "source": [
        "print(\"Accuracy:\",accuracy_score(y_test, predictions))\n",
        "\n",
        "#Printing of the accuracy score"
      ],
      "execution_count": 0,
      "outputs": []
    },
    {
      "cell_type": "code",
      "metadata": {
        "id": "s9EeL9q5ZwMI",
        "colab_type": "code",
        "colab": {}
      },
      "source": [
        "import matplotlib.pyplot as plt\n",
        "_, ax = plt.subplots()\n",
        "\n",
        "ax.scatter(x = range(0, y_test.size), y=y_test, c = 'blue', label = 'Actual', alpha = 0.5)\n",
        "ax.scatter(x = range(0, predictions.size), y=predictions, c = 'red', label = 'Predicted', alpha = 0.5)\n",
        "\n",
        "\n",
        "plt.title('Actual and predicted values')\n",
        "\n",
        "plt.xlabel('Observations')\n",
        "plt.ylabel('Loan Status')\n",
        "plt.legend()\n",
        "plt.show()\n",
        "\n",
        "#A graphical representation of the classification performance."
      ],
      "execution_count": 0,
      "outputs": []
    },
    {
      "cell_type": "code",
      "metadata": {
        "id": "gpKiH6hnnJVF",
        "colab_type": "code",
        "colab": {}
      },
      "source": [
        "#Logistic Regression\n",
        "from sklearn.model_selection import train_test_split\n",
        "from sklearn.linear_model import LogisticRegression\n",
        "from sklearn.metrics import classification_report\n",
        "from sklearn.metrics import accuracy_score\n",
        "from sklearn.metrics import confusion_matrix\n",
        "from sklearn.model_selection import GridSearchCV\n",
        "\n",
        "\n",
        "#Splitting the training and test set\n",
        "X_train, X_test, y_train, y_test = train_test_split(data.drop('Loan_Status', axis=1),data['Loan_Status'], test_size=0.18, random_state=9)\n",
        "logmodel = LogisticRegression()\n",
        "logmodel.fit(X_train,y_train)\n",
        "\n",
        "#Defining the predictions through the logirithimic model\n",
        "predictions = logmodel.predict(X_test)\n",
        "\n",
        "\n",
        "#Setting the parameter space for optimization\n",
        "parameter_space = { \n",
        "              \n",
        "              'random_state':[ 9, 10, 11] }\n",
        "\n",
        "#Optimizing the performance of the log regression\n",
        "\n",
        "\n",
        "clf = GridSearchCV(logmodel, parameter_space, n_jobs=-1, cv=3)\n",
        "clf.fit(X_train, y_train)\n",
        "\n",
        "print('Best parameters found:\\n', clf.best_params_)\n",
        "\n",
        "\n",
        "\n"
      ],
      "execution_count": 0,
      "outputs": []
    },
    {
      "cell_type": "code",
      "metadata": {
        "id": "RGEPTmKIaMA8",
        "colab_type": "code",
        "colab": {}
      },
      "source": [
        "print(classification_report(y_test,predictions))\n",
        "print(\"Accuracy:\",accuracy_score(y_test, predictions))\n",
        "\n",
        "              \n",
        "#Printing of the accuracy score  \n"
      ],
      "execution_count": 0,
      "outputs": []
    },
    {
      "cell_type": "code",
      "metadata": {
        "id": "zBJrRuy03OSl",
        "colab_type": "code",
        "colab": {}
      },
      "source": [
        "import matplotlib.pyplot as plt\n",
        "_, ax = plt.subplots()\n",
        "\n",
        "ax.scatter(x = range(0, y_test.size), y=y_test, c = 'blue', label = 'Actual', alpha = 0.5)\n",
        "ax.scatter(x = range(0, predictions.size), y=predictions, c = 'red', label = 'Predicted', alpha = 0.5)\n",
        "\n",
        "\n",
        "plt.title('Actual and predicted values')\n",
        "\n",
        "plt.xlabel('Observations')\n",
        "plt.ylabel('Loan Status')\n",
        "plt.legend()\n",
        "plt.show()\n",
        "\n",
        "#A graphical representation of the classification performance."
      ],
      "execution_count": 0,
      "outputs": []
    },
    {
      "cell_type": "code",
      "metadata": {
        "id": "pK5ppm7k6wsd",
        "colab_type": "code",
        "colab": {}
      },
      "source": [
        "print(confusion_matrix(y_test,predictions))\n",
        "#Printing of the classification report"
      ],
      "execution_count": 0,
      "outputs": []
    },
    {
      "cell_type": "code",
      "metadata": {
        "id": "hu1UmNbgjAPO",
        "colab_type": "code",
        "colab": {}
      },
      "source": [
        "#DecisionTree Classifier \n",
        "from numpy import loadtxt\n",
        "\n",
        "from sklearn.metrics import accuracy_score\n",
        "\n",
        "\n",
        "import io\n",
        "import seaborn as sns\n",
        "import matplotlib.pyplot as plt \n",
        "import numpy as np\n",
        "from sklearn.model_selection import train_test_split\n",
        "from sklearn import preprocessing\n",
        "import pandas as pd\n",
        "from sklearn.tree import DecisionTreeClassifier \n",
        "from sklearn.model_selection import train_test_split \n",
        "from sklearn import metrics \n",
        "\n",
        "#Splitting of the data into training and test sets\n",
        "\n",
        "X = data.drop('Loan_Status', axis=1)\n",
        "y = data['Loan_Status']\n",
        "X_train, X_test, y_train, y_test = train_test_split(data.drop('Loan_Status', axis=1),data['Loan_Status'], test_size=0.18, stratify=y, random_state=10)\n",
        "\n",
        "data.head()\n",
        "\n",
        "dtc = DecisionTreeClassifier()\n",
        "\n",
        "dtc = dtc.fit(X_train, y_train)\n",
        "predictions = dtc.predict(X_test)\n",
        "\n",
        "print(\"Accuracy:\",accuracy_score(y_test, predictions))"
      ],
      "execution_count": 0,
      "outputs": []
    },
    {
      "cell_type": "code",
      "metadata": {
        "id": "ExHIzSqo4rsE",
        "colab_type": "code",
        "colab": {}
      },
      "source": [
        "import matplotlib.pyplot as plt\n",
        "_, ax = plt.subplots()\n",
        "\n",
        "ax.scatter(x = range(0, y_test.size), y=y_test, c = 'blue', label = 'Actual', alpha = 0.5)\n",
        "ax.scatter(x = range(0, predictions.size), y=predictions, c = 'red', label = 'Predicted', alpha = 0.5)\n",
        "\n",
        "\n",
        "plt.title('Actual and predicted values')\n",
        "\n",
        "plt.xlabel('Observations')\n",
        "plt.ylabel('Loan Status')\n",
        "plt.legend()\n",
        "plt.show()\n",
        "\n",
        "#A graphical representation of the classification performance."
      ],
      "execution_count": 0,
      "outputs": []
    },
    {
      "cell_type": "code",
      "metadata": {
        "id": "NaFWToqrP9As",
        "colab_type": "code",
        "colab": {}
      },
      "source": [
        "print(classification_report(y_test,predictions))\n",
        "#Printing of the classification report"
      ],
      "execution_count": 0,
      "outputs": []
    }
  ]
}